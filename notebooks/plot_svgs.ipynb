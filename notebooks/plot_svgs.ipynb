{
 "cells": [
  {
   "cell_type": "code",
   "execution_count": 3,
   "metadata": {
    "scrolled": false
   },
   "outputs": [
    {
     "name": "stdout",
     "output_type": "stream",
     "text": [
      "/Users/heiland/dev/eigen_models/motility_BN/src/output/snapshot00000200.svg\n"
     ]
    },
    {
     "data": {
      "image/svg+xml": [
       "<svg height=\"428\" id=\"svg2\" version=\"1.1\" width=\"1010\" xmlns=\"http://www.w3.org/2000/svg\" xmlns:cc=\"http://creativecommons.org/ns#\" xmlns:dc=\"http://purl.org/dc/elements/1.1/\" xmlns:rdf=\"http://www.w3.org/1999/02/22-rdf-syntax-ns#\" xmlns:svg=\"http://www.w3.org/2000/svg\">\n",
       "  <rect fill=\"white\" height=\"428\" stroke=\"white\" stroke-width=\"0.8\" width=\"1010\" x=\"0\" y=\"0\"/>\n",
       "  <text fill=\"black\" font-family=\"Arial\" font-size=\"10\" x=\"5\" y=\"12\">\n",
       "   Current time: 0 days, 16 hours, and 40.00 minutes, z = 0.00 μm\n",
       "  </text>\n",
       "  <text fill=\"black\" font-family=\"Arial\" font-size=\"9.5\" x=\"5\" y=\"23\">\n",
       "   2 agents\n",
       "  </text>\n",
       " <g id=\"tissue\" transform=\"translate(0,428) scale(1,-1)\">\n",
       "  <g id=\"ECM\">\n",
       "  </g>\n",
       "  <g id=\"cells\">\n",
       "   <g id=\"cell0\">\n",
       "  <circle cx=\"1010.05\" cy=\"135\" fill=\"black\" r=\"12.1332\" stroke=\"red\" stroke-width=\"0.5\"/>\n",
       "  <circle cx=\"1010.05\" cy=\"135\" fill=\"red\" r=\"7.28577\" stroke=\"red\" stroke-width=\"0.5\"/>\n",
       "   </g>\n",
       "   <g id=\"cell1\">\n",
       "  <circle cx=\"1010.05\" cy=\"265\" fill=\"black\" r=\"12.1332\" stroke=\"red\" stroke-width=\"0.5\"/>\n",
       "  <circle cx=\"1010.05\" cy=\"265\" fill=\"red\" r=\"7.28577\" stroke=\"red\" stroke-width=\"0.5\"/>\n",
       "   </g>\n",
       "  </g>\n",
       " </g>\n",
       "  <rect fill=\"rgb(0,0,0)\" height=\"4\" stroke=\"rgb(255,255,255)\" stroke-width=\"0.8\" width=\"200\" x=\"800\" y=\"414\"/>\n",
       "  <text fill=\"black\" font-family=\"Arial\" font-size=\"10\" x=\"802.5\" y=\"411.5\">\n",
       "   200 μm\n",
       "  </text>\n",
       "  <text fill=\"black\" font-family=\"Arial\" font-size=\"7.5\" x=\"10\" y=\"418\">\n",
       "   0 days, 0 hours, 0 minutes, and 3.1037 seconds\n",
       "  </text>\n",
       "  <rect fill=\"none\" height=\"400\" stroke=\"rgb(0,0,0)\" stroke-width=\"0.8\" width=\"1010\" x=\"0\" y=\"28\"/>\n",
       "</svg>"
      ],
      "text/plain": [
       "<IPython.core.display.SVG object>"
      ]
     },
     "metadata": {},
     "output_type": "display_data"
    }
   ],
   "source": [
    "# https://stackoverflow.com/questions/30334385/display-svg-in-ipython-notebook-from-a-function\n",
    "from IPython.display import SVG, display, display_svg, clear_output\n",
    "import time\n",
    "from pathlib import Path\n",
    "\n",
    "def show_svg(url_name):\n",
    "#     fname = 'file:///Users/heiland/dev/eigen_models/motility_BN/src/output/snapshot%08d.svg' % frame_idx\n",
    "    display(SVG(url=url_name))\n",
    "#     display_svg(fname)\n",
    "for itimes in range(2):\n",
    "    for idx in range(500):\n",
    "        fname = '/Users/heiland/dev/eigen_models/motility_BN/src/output/snapshot%08d.svg' % idx\n",
    "#         myfile = Path(fname)\n",
    "        if Path(fname).exists():\n",
    "#         if True:\n",
    "            print(fname)\n",
    "            show_svg('file://' + fname)\n",
    "            clear_output(True)\n",
    "            time.sleep(0.05)  # lower = faster\n",
    "        else:\n",
    "            break"
   ]
  },
  {
   "cell_type": "code",
   "execution_count": null,
   "metadata": {},
   "outputs": [],
   "source": []
  }
 ],
 "metadata": {
  "kernelspec": {
   "display_name": "Python 3",
   "language": "python",
   "name": "python3"
  },
  "language_info": {
   "codemirror_mode": {
    "name": "ipython",
    "version": 3
   },
   "file_extension": ".py",
   "mimetype": "text/x-python",
   "name": "python",
   "nbconvert_exporter": "python",
   "pygments_lexer": "ipython3",
   "version": "3.6.5"
  }
 },
 "nbformat": 4,
 "nbformat_minor": 2
}
