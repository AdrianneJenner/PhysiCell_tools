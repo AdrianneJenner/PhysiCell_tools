{
 "cells": [
  {
   "cell_type": "code",
   "execution_count": 1,
   "metadata": {
    "extensions": {
     "jupyter_dashboards": {
      "version": 1,
      "views": {
       "grid_default": {
        "col": 0,
        "height": 44,
        "hidden": false,
        "row": 0,
        "width": null
       },
       "report_default": {}
      }
     }
    },
    "scrolled": true
   },
   "outputs": [
    {
     "data": {
      "application/javascript": [
       "\n",
       "requirejs.undef('filepicker');\n",
       "\n",
       "define('filepicker', [\"@jupyter-widgets/base\"], function(widgets) {\n",
       "\n",
       "    var FilePickerView = widgets.DOMWidgetView.extend({\n",
       "        render: function(){\n",
       "            this.file = document.createElement('input');\n",
       "            this.file.setAttribute('class', 'fileinput');\n",
       "            this.file.setAttribute('id', this.cid);\n",
       "            this.file.multiple = this.model.get('multiple');\n",
       "            this.file.required = true;\n",
       "            this.file.setAttribute('type', 'file');\n",
       "            this.file.setAttribute('style', 'display:none');\n",
       "\n",
       "            this.label = document.createElement('label');\n",
       "            this.label.setAttribute('for', this.cid);\n",
       "            this.label.setAttribute('style', 'border: 1px solid; border-radius: 5px; display: inline-block; padding: 6px 12px');\n",
       "\n",
       "            this.icon = document.createElement('i');\n",
       "            this.icon.setAttribute(\"class\", \"fa fa-upload\");\n",
       "\n",
       "            if (this.file.multiple) {\n",
       "                this.labelstr = \"  Upload Files\";\n",
       "            } else {\n",
       "                this.labelstr = \"  Upload File\";\n",
       "            }\n",
       "            this.label.innerHTML = this.labelstr;\n",
       "            this.label.prepend(this.icon);\n",
       "            this.el.appendChild(this.label);\n",
       "            this.el.appendChild(this.file);\n",
       "            this.listenTo(this.model, 'change:send', this._send_changed, this);\n",
       "            this.update();\n",
       "        },\n",
       "\n",
       "        events: {\n",
       "            // List of events and their handlers.\n",
       "            'change': 'handle_file_change'\n",
       "        },\n",
       "\n",
       "        _send_changed: function() {\n",
       "            var that = this;\n",
       "            var send = this.model.get('send');\n",
       "            var fnum = send[0];\n",
       "            var offset = send[1];\n",
       "            var chunk_size=64*1024;\n",
       "            \n",
       "            if (offset == 0) {\n",
       "                this.model.set('sent', -1);\n",
       "                this.touch();\n",
       "            }\n",
       "\n",
       "            //console.log('send: ' + fnum + ' ' + offset);\n",
       "            function tob64( buffer ) {\n",
       "                var binary = '';\n",
       "                var bytes = new Uint8Array( buffer );\n",
       "                var len = bytes.byteLength;\n",
       "                for (var i = 0; i < len; i++) {\n",
       "                    binary += String.fromCharCode( bytes[ i ] );\n",
       "                }\n",
       "                return window.btoa( binary );\n",
       "            }\n",
       "\n",
       "            var reader_done = function (event) {\n",
       "                // chunk is finished.  Send to python\n",
       "                //console.log(event);\n",
       "                if (event.target.error == null) {\n",
       "                    var b64 = tob64(event.target.result);\n",
       "                    that.model.set('data', b64);\n",
       "                    that.model.set('sent', offset);\n",
       "                } else {\n",
       "                    console.log(\"Read error: \" + event.target.error);\n",
       "                    that.model.set('data', '');\n",
       "                    that.model.set('sent', -2);\n",
       "                }\n",
       "                that.touch();\n",
       "            }\n",
       "        \n",
       "            var chunk_reader = function (_offset, _f) {\n",
       "                // console.log('CR' + ' ' + _f + ' ' + _offset);\n",
       "                var reader = new FileReader();\n",
       "                var chunk = _f.slice(_offset, chunk_size + _offset);            \n",
       "                reader.readAsArrayBuffer(chunk);\n",
       "                reader.onload = reader_done;\n",
       "            }\n",
       "    \n",
       "            // OK. request next chunk\n",
       "            chunk_reader(offset, this.files[fnum]);\n",
       "        },\n",
       "        \n",
       "        \n",
       "        handle_file_change: function(evt) {\n",
       "\n",
       "            var that = this;\n",
       "            var _files = evt.target.files;\n",
       "            var filenames = [];\n",
       "            var file_readers = [];\n",
       "            this.files = [];\n",
       "\n",
       "            for (var i = 0; i < _files.length; i++) {\n",
       "                var file = _files[i];\n",
       "                console.log(\"Filename: \" + file.name);\n",
       "                console.log(\"Type: \" + file.type);\n",
       "                console.log(\"Size: \" + file.size + \" bytes\");\n",
       "                this.files.push(file);\n",
       "                filenames.push([file.name, file.size]);\n",
       "            };\n",
       "\n",
       "            // Set the filenames of the files.\n",
       "            this.model.set('filenames', filenames);\n",
       "            this.touch();\n",
       "\n",
       "            // update the label\n",
       "            if (filenames.length == 0) {\n",
       "                this.label.innerHTML = this.labelstr;\n",
       "            } else if (filenames.length == 1) {\n",
       "                this.label.innerHTML = \"  \" + filenames[0][0];\n",
       "            } else {\n",
       "                this.label.innerHTML = \"  \" + filenames.length + \" files selected\";\n",
       "            };\n",
       "            this.label.prepend(this.icon);\n",
       "        },\n",
       "    });\n",
       "\n",
       "    // Register the FilePickerView with the widget manager.\n",
       "    return {\n",
       "        FilePickerView: FilePickerView\n",
       "    };\n",
       "});\n"
      ],
      "text/plain": [
       "<IPython.core.display.Javascript object>"
      ]
     },
     "metadata": {},
     "output_type": "display_data"
    },
    {
     "data": {
      "text/html": [
       "\n",
       "<script>\n",
       "requirejs.config({\n",
       "    paths: {\n",
       "        'ace': ['//cdnjs.cloudflare.com/ajax/libs/ace/1.2.6/ace'],\n",
       "    },\n",
       "});\n",
       "\n",
       "require(['ace'], function(ace) {\n",
       "    console.log(\"ACE loaded :)\");\n",
       "    return {};\n",
       "});\n",
       "</script>\n",
       "\n",
       "<script>\n",
       "requirejs.undef('editor');\n",
       "\n",
       "define('editor', [\"jupyter-js-widgets\"], function(widgets) {\n",
       "\n",
       "    var EditorView = widgets.DOMWidgetView.extend({\n",
       "\n",
       "        // Render the view.\n",
       "        render: function() {\n",
       "            this.ignorex = false;\n",
       "            this.ignorev = false;\n",
       "            //console.log('RENDER '+this.model.get('name'));\n",
       "            this.div = document.createElement('div');\n",
       "            this.div.setAttribute('id', this.model.get('name'));\n",
       "            this.el.appendChild(this.div);\n",
       "            this.listenTo(this.model, 'change:state', this._state_changed, this);\n",
       "            this.listenTo(this.model, 'change:theme', this._theme_changed, this);\n",
       "            this.listenTo(this.model, 'change:mode', this._mode_changed, this);\n",
       "            this.listenTo(this.model, 'change:value2', this._value2_changed, this);\n",
       "            this.listenTo(this.model, 'change:showmargin', this._showmargin_changed, this);\n",
       "            this.listenTo(this.model, 'change:fontsize', this._fontsize_changed, this);\n",
       "            this.update();\n",
       "        },\n",
       "        update: function() {\n",
       "            return EditorView.__super__.update.apply(this);\n",
       "        },\n",
       "        // Tell Backbone to listen to the change event of input controls\n",
       "        events: {\n",
       "            \"change\": \"handle_color_change\"\n",
       "        },\n",
       "\n",
       "        _state_changed: function() {\n",
       "            var state = this.model.get('state')\n",
       "            //console.log('state: ' + state );\n",
       "            if (state == 'start') {\n",
       "                var that = this;\n",
       "                this._ed = ace.edit(this.model.get('name'));\n",
       "                this._ed.getSession().on('change', function(e) {\n",
       "                    if (that.ignorev == true) { return }\n",
       "                    that.ignorex = true;\n",
       "                    //console.log('CHANGE1');\n",
       "                    that.model.set('value2', that._ed.getValue());\n",
       "                    //console.log('CHANGE2');\n",
       "                    that.touch();\n",
       "                    //console.log('CHANGE3');\n",
       "                    that.ignorex = false;\n",
       "                });\n",
       "            };\n",
       "        },\n",
       "        _theme_changed: function() {\n",
       "            //console.log(\"theme \" + this.model.get('theme'));\n",
       "            this._ed.setTheme(\"ace/theme/\"+this.model.get('theme'));\n",
       "        },\n",
       "        _mode_changed: function() {\n",
       "            //console.log(\"mode \" + this.model.get('mode'));\n",
       "            this._ed.getSession().setMode(\"ace/mode/\"+this.model.get('mode'));\n",
       "        },\n",
       "        _value2_changed: function() {\n",
       "            //console.log('value2 ' + this.ignorex);\n",
       "            if (this.ignorex == true) { return };\n",
       "            var val = this.model.get('value2');\n",
       "            //console.log('VALUE2 ' + val);\n",
       "            this.ignorev = true;\n",
       "            this._ed.setValue(val);\n",
       "            this.ignorev = false;\n",
       "            //console.log('VALUE2 DONE');\n",
       "        },\n",
       "        _showmargin_changed: function() {\n",
       "            this._ed.setShowPrintMargin(this.model.get('showmargin'));\n",
       "        },\n",
       "        _fontsize_changed: function() {\n",
       "            document.getElementById(this.model.get('name')).style.fontSize=this.model.get('fontsize');\n",
       "        },\n",
       "\n",
       "        // Callback for when the color is changed.\n",
       "        handle_color_change: function(event) {\n",
       "            console.log('SOMETHING CHNAGED');\n",
       "            console.log(event);\n",
       "        },\n",
       "    });\n",
       "\n",
       "    return {\n",
       "        EditorView: EditorView\n",
       "    };\n",
       "});\n",
       "</script>\n"
      ],
      "text/plain": [
       "<IPython.core.display.HTML object>"
      ]
     },
     "metadata": {},
     "output_type": "display_data"
    }
   ],
   "source": [
    "%matplotlib inline\n",
    "%run bin/pc4nanobio.py"
   ]
  },
  {
   "cell_type": "code",
   "execution_count": 2,
   "metadata": {
    "extensions": {
     "jupyter_dashboards": {
      "version": 1,
      "views": {
       "grid_default": {
        "hidden": true
       },
       "report_default": {}
      }
     }
    },
    "scrolled": false
   },
   "outputs": [
    {
     "data": {
      "application/vnd.jupyter.widget-view+json": {
       "model_id": "4b7feb2655bf41c48123b38b0c0969e0",
       "version_major": 2,
       "version_minor": 0
      },
      "text/html": [
       "<p>Failed to display Jupyter Widget of type <code>VBox</code>.</p>\n",
       "<p>\n",
       "  If you're reading this message in the Jupyter Notebook or JupyterLab Notebook, it may mean\n",
       "  that the widgets JavaScript is still loading. If this message persists, it\n",
       "  likely means that the widgets JavaScript library is either not installed or\n",
       "  not enabled. See the <a href=\"https://ipywidgets.readthedocs.io/en/stable/user_install.html\">Jupyter\n",
       "  Widgets Documentation</a> for setup instructions.\n",
       "</p>\n",
       "<p>\n",
       "  If you're reading this message in another frontend (for example, a static\n",
       "  rendering on GitHub or <a href=\"https://nbviewer.jupyter.org/\">NBViewer</a>),\n",
       "  it may mean that your frontend doesn't currently support widgets.\n",
       "</p>\n"
      ],
      "text/plain": [
       "VBox(children=(HBox(children=(Button(button_style='info', description='Read config file', disabled=True, style=ButtonStyle(), tooltip='Populate the GUI with info in your configuration file (in ~/local/share/pc4nanobio)'), Dropdown(options=(), value=None), Button(button_style='info', description='Reset defaults', style=ButtonStyle(), tooltip='Populate the GUI with default parameters'))), Tab(children=(VBox(children=(VBox(children=(Label(value='Domain (micron):'), HBox(children=(FloatText(value=0.0, description='Xmin', layout=Layout(width='180px'), step=10.0), FloatText(value=2000.0, description='Xmax', layout=Layout(width='180px'), step=10.0), BoundedFloatText(value=20.0, description='dx', layout=Layout(width='180px'), min=1.0))), HBox(children=(FloatText(value=0.0, description='Ymin', layout=Layout(width='180px'), step=10.0), FloatText(value=2000.0, description='Ymax', layout=Layout(width='180px'), step=10.0), BoundedFloatText(value=20.0, description='dy', layout=Layout(width='180px'), min=1.0))), HBox(children=(FloatText(value=-10.0, description='Zmin', layout=Layout(width='180px'), step=10.0), FloatText(value=10.0, description='Zmax', layout=Layout(width='180px'), step=10.0), BoundedFloatText(value=20.0, description='dz', layout=Layout(width='180px'), min=1.0)))), layout=Layout(border='1px solid')), HBox(children=(BoundedFloatText(value=30240.0, description='Max Time', layout=Layout(width='180px'), max=100000000.0, step=10.0), Label(value='min'))), BoundedIntText(value=8, description='# threads', layout=Layout(width='180px'), min=1), HBox(children=(BoundedFloatText(value=100.0, description='Tumor Radius', layout=Layout(width='180px'), max=99999.0, step=1.0, style=DescriptionStyle(description_width='initial')), Label(value='micron'))), HBox(children=(Label(value='Plots:'), Checkbox(value=True, description='Cells', layout=Layout(width='150px')), HBox(children=(BoundedIntText(value=60, description='every', layout=Layout(width='160px'), max=99999999, min=1), Label(value='min'))), Checkbox(value=True, description='Subtrates', layout=Layout(width='180px')), HBox(children=(BoundedIntText(value=120, description='every', layout=Layout(width='160px'), max=99999999), Label(value='min'))))), VBox(children=(Label(value='Substrates:'), HBox(children=(HBox(children=(BoundedFloatText(value=38.0, description='o2: ', disabled=True, layout=Layout(width='180px'), step=0.1), Label(value='mmHg')), layout=Layout(width='380px')), HBox(children=(BoundedFloatText(value=100000.0, description='diffusion coef', layout=Layout(width='180px'), max=999999.0, step=10.0), Label(value='micron^2/min')), layout=Layout(width='400px')), HBox(children=(BoundedFloatText(value=0.1, description='decay rate', layout=Layout(width='180px'), step=0.01), Label(value='1/min')), layout=Layout(width='380px')))), HBox(children=(HBox(children=(BoundedFloatText(value=1.0, description='Glc: ', disabled=True, layout=Layout(width='180px'), step=0.1),), layout=Layout(width='380px')), HBox(children=(BoundedFloatText(value=30000.0, description='diffusion coef', layout=Layout(width='180px'), max=999999.0, step=10.0), Label(value='micron^2/min')), layout=Layout(width='400px')), HBox(children=(BoundedFloatText(value=3e-05, description='decay rate', layout=Layout(width='180px'), step=1e-05), Label(value='1/min')), layout=Layout(width='380px')))), HBox(children=(HBox(children=(BoundedFloatText(value=7.25, description='H+: ', disabled=True, layout=Layout(width='180px'), step=0.1), Label(value='pH')), layout=Layout(width='380px')), HBox(children=(BoundedFloatText(value=65000.0, description='diffusion coef', layout=Layout(width='180px'), max=999999.0, step=10.0), Label(value='micron^2/min')), layout=Layout(width='400px')), HBox(children=(BoundedFloatText(value=0.0, description='decay rate', layout=Layout(width='180px'), step=0.01), Label(value='1/min')), layout=Layout(width='380px'))))), layout=Layout(border='1px solid')))), VBox(children=(Text(value='untreated cancer', description='Cell line name', style=DescriptionStyle(description_width='initial')), VBox(children=(Label(value='Cycle:'), HBox(children=(HBox(children=(BoundedFloatText(value=0.00072, description='max birth rate', layout=Layout(width='180px'), step=0.0001, style=DescriptionStyle(description_width='initial')), Label(value='1/min')), layout=Layout(width='270px')),)), HBox(children=(HBox(children=(BoundedFloatText(value=38.0, description='o2: prolif sat', layout=Layout(width='180px'), step=0.1), Label(value='mmHg')), layout=Layout(width='270px')), HBox(children=(BoundedFloatText(value=5.0, description='prolif thresh', layout=Layout(width='180px'), step=0.1), Label(value='mmHg')), layout=Layout(width='270px')), HBox(children=(BoundedFloatText(value=38.0, description='ref', layout=Layout(width='180px'), step=0.1), Label(value='mmHg')), layout=Layout(width='270px')))), HBox(children=(HBox(children=(BoundedFloatText(value=1.0, description='Glc: prolif ref', layout=Layout(width='180px'), step=0.1),), layout=Layout(width='270px')), HBox(children=(BoundedFloatText(value=1.0, description='prolif sat', layout=Layout(width='180px'), step=0.1),), layout=Layout(width='270px')), HBox(children=(BoundedFloatText(value=0.0, description='prolif thresh', layout=Layout(width='180px'), step=0.1),), layout=Layout(width='270px'))))), layout=Layout(border='1px solid')), VBox(children=(Label(value='Necrosis:'), HBox(children=(HBox(children=(BoundedFloatText(value=0.0027777777777778, description='max rate', layout=Layout(width='180px'), step=0.001), Label(value='1/min')), layout=Layout(width='270px')),)), HBox(children=(HBox(children=(BoundedFloatText(value=5.0, description='o2: thresh', layout=Layout(width='180px'), step=0.1), Label(value='mmHg')), layout=Layout(width='270px')), HBox(children=(BoundedFloatText(value=2.5, description='max', layout=Layout(width='180px'), step=0.1), Label(value='mmHg')), layout=Layout(width='270px'))))), layout=Layout(border='1px solid')), VBox(children=(Label(value='Apoptosis:'), HBox(children=(HBox(children=(BoundedFloatText(value=5.316666666666667e-05, description='rate', layout=Layout(width='180px'), step=1e-05), Label(value='1/min')), layout=Layout(width='270px')),))), layout=Layout(border='1px solid')), VBox(children=(Label(value='Metabolism (must sum to 1):'), HBox(children=(HBox(children=(BoundedFloatText(value=1.0, description='Aerobic', disabled=True, layout=Layout(width='180px'), max=1.0, step=0.1),), layout=Layout(width='270px')), HBox(children=(BoundedFloatText(value=0.0, description='Glycolytic', disabled=True, layout=Layout(width='180px'), max=1.0, step=0.1),), layout=Layout(width='270px'))))), layout=Layout(border='1px solid')), VBox(children=(HBox(children=(Label(value='Motility:'), Checkbox(value=False, description='motile', layout=Layout(width='180px')), BoundedIntText(value=0, description='substrate index', layout=Layout(width='160px'), style=DescriptionStyle(description_width='initial')), RadioButtons(disabled=True, options={'grad': 0, '-grad': 1}, value=0))), HBox(children=(HBox(children=(BoundedFloatText(value=0.25, description='bias', disabled=True, layout=Layout(width='180px'), max=1.0, step=0.01),), layout=Layout(width='270px')), HBox(children=(BoundedFloatText(value=1.1, description='speed', disabled=True, layout=Layout(width='180px'), step=0.1), Label(value='micron/min')), layout=Layout(width='270px')), HBox(children=(BoundedFloatText(value=10.0, description='persistence time', disabled=True, layout=Layout(width='180px'), step=0.1), Label(value='min')), layout=Layout(width='270px'))))), layout=Layout(border='1px solid')), VBox(children=(Label(value='Mechanics:'), HBox(children=(HBox(children=(BoundedFloatText(value=1.5, description='Max adhesion distance', layout=Layout(width='180px'), step=0.1),), layout=Layout(width='270px')), HBox(children=(BoundedFloatText(value=0.4, description='Adhesion strength', layout=Layout(width='180px'), step=0.1),), layout=Layout(width='270px')), HBox(children=(BoundedFloatText(value=10.0, description='Repulsion strength', layout=Layout(width='180px'), step=0.1),), layout=Layout(width='270px'))))), layout=Layout(border='1px solid')), VBox(children=(Label(value='Hypoxia:'), HBox(children=(HBox(children=(BoundedFloatText(value=15.0, description='o2: threshold', layout=Layout(width='180px'), step=0.1), Label(value='mmHg')), layout=Layout(width='270px')), HBox(children=(BoundedFloatText(value=8.0, description='response', layout=Layout(width='180px'), step=0.1), Label(value='mmHg')), layout=Layout(width='270px')), HBox(children=(BoundedFloatText(value=4.0, description='saturation', layout=Layout(width='180px'), step=0.1), Label(value='mmHg')), layout=Layout(width='270px'))))), layout=Layout(border='1px solid')), VBox(children=(Label(value='Secretion:'), HBox(children=(HBox(children=(BoundedFloatText(value=10.0, description='o2: uptake rate', layout=Layout(width='180px'), step=0.1), Label(value='1/min')), layout=Layout(width='270px')), HBox(children=(BoundedFloatText(value=0.0, description='secretion rate', layout=Layout(width='180px'), step=0.1), Label(value='1/min')), layout=Layout(width='270px')), HBox(children=(BoundedFloatText(value=0.0, description='saturation', layout=Layout(width='180px'), step=0.1),), layout=Layout(width='270px')))), HBox(children=(HBox(children=(BoundedFloatText(value=0.3, description='Glc: uptake rate', layout=Layout(width='180px'), step=0.01), Label(value='1/min')), layout=Layout(width='270px')), HBox(children=(BoundedFloatText(value=0.0, description='secretion rate', layout=Layout(width='180px'), step=0.1), Label(value='1/min')), layout=Layout(width='270px')), HBox(children=(BoundedFloatText(value=0.0, description='saturation', layout=Layout(width='180px'), step=0.1),), layout=Layout(width='270px')))), HBox(children=(HBox(children=(BoundedFloatText(value=0.0, description='H+: uptake rate', layout=Layout(width='180px'), step=0.1), Label(value='1/min')), layout=Layout(width='270px')), HBox(children=(BoundedFloatText(value=0.0, description='secretion rate', layout=Layout(width='180px'), step=0.1), Label(value='1/min')), layout=Layout(width='270px')), HBox(children=(BoundedFloatText(value=1.0, description='saturation', layout=Layout(width='180px'), step=0.1),), layout=Layout(width='270px')))), HBox(children=(HBox(children=(BoundedFloatText(value=0.0, description='ECM: uptake rate', layout=Layout(width='180px'), step=0.1), Label(value='1/min')), layout=Layout(width='270px')), HBox(children=(BoundedFloatText(value=0.0, description='secretion rate', layout=Layout(width='180px'), step=0.1), Label(value='1/min')), layout=Layout(width='270px')), HBox(children=(BoundedFloatText(value=0.0, description='saturation', layout=Layout(width='180px'), step=0.1),), layout=Layout(width='270px')))), HBox(children=(HBox(children=(BoundedFloatText(value=0.0, description='NP1: uptake rate', layout=Layout(width='180px'), step=0.1), Label(value='1/min')), layout=Layout(width='270px')), HBox(children=(BoundedFloatText(value=0.0, description='secretion rate', layout=Layout(width='180px'), step=0.1), Label(value='1/min')), layout=Layout(width='270px')), HBox(children=(BoundedFloatText(value=0.0, description='saturation', layout=Layout(width='180px'), step=0.1),), layout=Layout(width='270px')))), HBox(children=(HBox(children=(BoundedFloatText(value=0.0, description='NP2: uptake rate', layout=Layout(width='180px'), step=0.1), Label(value='1/min')), layout=Layout(width='270px')), HBox(children=(BoundedFloatText(value=0.0, description='secretion rate', layout=Layout(width='180px'), step=0.1), Label(value='1/min')), layout=Layout(width='270px')), HBox(children=(BoundedFloatText(value=0.0, description='saturation', layout=Layout(width='180px'), step=0.1),), layout=Layout(width='270px'))))), layout=Layout(border='1px solid')))), Tab(children=(VBox(children=(VBox(children=(Label(value='Pharmacokinetics:'), HBox(children=(BoundedFloatText(value=6.0, description='diffusion coefficient', layout=Layout(width='180px'), step=0.1), Label(value='micron^2/min')), layout=Layout(width='270px')), HBox(children=(BoundedFloatText(value=60000.0, description='survival lifetime', layout=Layout(width='180px'), max=1000000.0, step=0.1), Label(value='min')), layout=Layout(width='270px'))), layout=Layout(border='1px solid red')), VBox(children=(Label(value='Pharmacodynamics:'), Dropdown(disabled=True, layout=Layout(width='180px'), options={'Simple (conc)': 0, 'Intermed (AUC)': 1, 'Details (act/deact)': 2}, value=0), HBox(children=(BoundedFloatText(value=0.5, description='EC_50', layout=Layout(width='180px'), step=0.1),), layout=Layout(width='270px')), HBox(children=(BoundedIntText(value=2, description='Hill power', layout=Layout(width='180px'), step=0),), layout=Layout(width='270px')), HBox(children=(BoundedFloatText(value=1.0, description='mech resp rate', layout=Layout(width='180px'), step=0.1), Label(value='1/min')), layout=Layout(width='270px')), HBox(children=(BoundedFloatText(value=0.0, description='mech deact rate', layout=Layout(width='180px'), step=0.1), Label(value='1/min')), layout=Layout(width='270px'))), layout=Layout(border='1px solid red')), VBox(children=(Checkbox(value=True, description='Active Influx', layout=Layout(width='180px')), HBox(children=(BoundedFloatText(value=2.0, description='rel max int conc', layout=Layout(width='180px'), step=0.1),), layout=Layout(width='270px')), HBox(children=(BoundedFloatText(value=0.0058, description='intern rate', layout=Layout(width='180px'), step=0.1), Label(value='1/min')), layout=Layout(width='270px')), HBox(children=(BoundedFloatText(value=1.0, description='ref ext conc', layout=Layout(width='180px'), step=0.1),), layout=Layout(width='270px'))), layout=Layout(border='1px solid red')), VBox(children=(Checkbox(value=False, description='Cycle', layout=Layout(width='180px')), HBox(children=(BoundedFloatText(value=0.00018, description='max birth rate', disabled=True, layout=Layout(width='180px'), step=0.0001, style=DescriptionStyle(description_width='initial')), Label(value='1/min')), layout=Layout(width='270px')), HBox(children=(HBox(children=(BoundedFloatText(value=38.0, description='o2: prolif sat', disabled=True, layout=Layout(width='180px'), step=0.1), Label(value='mmHg')), layout=Layout(width='270px')), HBox(children=(BoundedFloatText(value=5.0, description='prolif thresh', disabled=True, layout=Layout(width='180px'), step=0.1), Label(value='mmHg')), layout=Layout(width='270px')), HBox(children=(BoundedFloatText(value=38.0, description='ref', disabled=True, layout=Layout(width='180px'), step=0.1), Label(value='mmHg')), layout=Layout(width='270px')))), HBox(children=(HBox(children=(BoundedFloatText(value=1.0, description='Glc: prolif ref', disabled=True, layout=Layout(width='180px'), step=0.1),), layout=Layout(width='270px')), HBox(children=(BoundedFloatText(value=1.0, description='prolif sat', disabled=True, layout=Layout(width='180px'), step=0.1),), layout=Layout(width='270px')), HBox(children=(BoundedFloatText(value=0.0, description='prolif thresh', disabled=True, layout=Layout(width='180px'), step=0.1),), layout=Layout(width='270px'))))), layout=Layout(border='1px solid red')), VBox(children=(Label(value='Necrosis:'), HBox(children=(BoundedFloatText(value=0.0027777777777778, description='max rate', layout=Layout(width='180px'), step=0.001), Label(value='1/min')), layout=Layout(width='270px')), HBox(children=(BoundedFloatText(value=5.0, description='o2: thresh', layout=Layout(width='180px'), step=0.1), Label(value='mmHg')), layout=Layout(width='270px')), HBox(children=(BoundedFloatText(value=2.5, description='max', layout=Layout(width='180px'), step=0.1), Label(value='mmHg')), layout=Layout(width='270px'))), layout=Layout(border='1px solid red')), VBox(children=(Checkbox(value=False, description='Apoptosis', layout=Layout(width='180px')), HBox(children=(HBox(children=(BoundedFloatText(value=0.001, description='rate', disabled=True, layout=Layout(width='180px'), step=0.001), Label(value='1/min')), layout=Layout(width='270px')),))), layout=Layout(border='1px solid red')), VBox(children=(Checkbox(value=False, description='Metabolism', disabled=True, layout=Layout(width='180px')), HBox(children=(HBox(children=(BoundedFloatText(value=0.0, description='Aerobic', disabled=True, layout=Layout(width='180px'), max=1.0, step=0.1),), layout=Layout(width='270px')), HBox(children=(BoundedFloatText(value=0.0, description='Glycolytic', disabled=True, layout=Layout(width='180px'), max=1.0, step=0.1),), layout=Layout(width='270px'))))), layout=Layout(border='1px solid red')), VBox(children=(HBox(children=(Checkbox(value=False, description='Motility', disabled=True, layout=Layout(width='200px')), Checkbox(value=False, description='motile', disabled=True, layout=Layout(width='200px')), BoundedIntText(value=0, description='substrate index', disabled=True, layout=Layout(width='200px'), style=DescriptionStyle(description_width='initial')), RadioButtons(disabled=True, options={'grad': 0, '-grad': 1}, value=0))), HBox(children=(HBox(children=(BoundedFloatText(value=0.25, description='bias', disabled=True, layout=Layout(width='180px'), max=1.0, step=0.01),), layout=Layout(width='270px')), HBox(children=(BoundedFloatText(value=1.1, description='speed', disabled=True, layout=Layout(width='180px'), step=0.1), Label(value='micron/min')), layout=Layout(width='290px')), HBox(children=(BoundedFloatText(value=10.0, description='persistence time', disabled=True, layout=Layout(width='180px'), step=0.1), Label(value='min')), layout=Layout(width='270px'))))), layout=Layout(border='1px solid red')), VBox(children=(Checkbox(value=False, description='Mechanics', layout=Layout(width='180px')), HBox(children=(HBox(children=(BoundedFloatText(value=1.5, description='Max adhesion distance', disabled=True, layout=Layout(width='180px'), step=0.1),), layout=Layout(width='270px')), HBox(children=(BoundedFloatText(value=0.4, description='Adhesion strength', layout=Layout(width='180px'), step=0.1),), layout=Layout(width='270px')), HBox(children=(BoundedFloatText(value=10.0, description='Repulsion strength', layout=Layout(width='180px'), step=0.1),), layout=Layout(width='270px'))))), layout=Layout(border='1px solid red')), VBox(children=(Label(value='Hypoxia:'), HBox(children=(HBox(children=(BoundedFloatText(value=15.0, description='o2: threshold', layout=Layout(width='180px'), step=0.1), Label(value='mmHg')), layout=Layout(width='270px')), HBox(children=(BoundedFloatText(value=8.0, description='response', layout=Layout(width='180px'), step=0.1), Label(value='mmHg')), layout=Layout(width='270px')), HBox(children=(BoundedFloatText(value=4.0, description='saturation', layout=Layout(width='180px'), step=0.1), Label(value='mmHg')), layout=Layout(width='270px'))))), layout=Layout(border='1px solid red')), VBox(children=(Checkbox(value=False, description='Secretion', layout=Layout(width='180px')), HBox(children=(HBox(children=(BoundedFloatText(value=10.0, description='o2: uptake rate', disabled=True, layout=Layout(width='180px'), step=0.1), Label(value='1/min')), layout=Layout(width='270px')), HBox(children=(BoundedFloatText(value=0.0, description='secretion rate', disabled=True, layout=Layout(width='180px'), step=0.1), Label(value='1/min')), layout=Layout(width='270px')), HBox(children=(BoundedFloatText(value=0.0, description='saturation', disabled=True, layout=Layout(width='180px'), step=0.1),), layout=Layout(width='270px')))), HBox(children=(HBox(children=(BoundedFloatText(value=0.003, description='Glc: uptake rate', disabled=True, layout=Layout(width='180px'), step=0.001), Label(value='1/min')), layout=Layout(width='270px')), HBox(children=(BoundedFloatText(value=0.0, description='secretion rate', disabled=True, layout=Layout(width='180px'), step=0.1), Label(value='1/min')), layout=Layout(width='270px')), HBox(children=(BoundedFloatText(value=0.0, description='saturation', disabled=True, layout=Layout(width='180px'), step=0.1),), layout=Layout(width='270px')))), HBox(children=(HBox(children=(BoundedFloatText(value=0.0, description='H+: uptake rate', disabled=True, layout=Layout(width='180px'), step=0.1), Label(value='1/min')), layout=Layout(width='270px')), HBox(children=(BoundedFloatText(value=0.0, description='secretion rate', disabled=True, layout=Layout(width='180px'), step=0.1), Label(value='1/min')), layout=Layout(width='270px')), HBox(children=(BoundedFloatText(value=1.0, description='saturation', disabled=True, layout=Layout(width='180px'), step=0.1),), layout=Layout(width='270px')))), HBox(children=(HBox(children=(BoundedFloatText(value=0.0, description='ECM: uptake rate', disabled=True, layout=Layout(width='180px'), step=0.1), Label(value='1/min')), layout=Layout(width='270px')), HBox(children=(BoundedFloatText(value=0.0, description='secretion rate', disabled=True, layout=Layout(width='180px'), step=0.1), Label(value='1/min')), layout=Layout(width='270px')), HBox(children=(BoundedFloatText(value=0.0, description='saturation', disabled=True, layout=Layout(width='180px'), step=0.1),), layout=Layout(width='270px')))), HBox(children=(HBox(children=(BoundedFloatText(value=0.0, description='NP1: uptake rate', disabled=True, layout=Layout(width='180px'), step=0.1), Label(value='1/min')), layout=Layout(width='270px')), HBox(children=(BoundedFloatText(value=0.0, description='secretion rate', disabled=True, layout=Layout(width='180px'), step=0.1), Label(value='1/min')), layout=Layout(width='270px')), HBox(children=(BoundedFloatText(value=0.0, description='saturation', disabled=True, layout=Layout(width='180px'), step=0.1),), layout=Layout(width='270px')))), HBox(children=(HBox(children=(BoundedFloatText(value=0.0, description='NP2: uptake rate', disabled=True, layout=Layout(width='180px'), step=0.1), Label(value='1/min')), layout=Layout(width='270px')), HBox(children=(BoundedFloatText(value=0.0, description='secretion rate', disabled=True, layout=Layout(width='180px'), step=0.1), Label(value='1/min')), layout=Layout(width='270px')), HBox(children=(BoundedFloatText(value=0.0, description='saturation', disabled=True, layout=Layout(width='180px'), step=0.1),), layout=Layout(width='270px'))))), layout=Layout(border='1px solid red')))), VBox(children=(VBox(children=(Label(value='Pharmacokinetics:'), HBox(children=(BoundedFloatText(value=6.0, description='diffusion coefficient', layout=Layout(width='180px'), step=0.1), Label(value='micron^2/min')), layout=Layout(width='270px')), HBox(children=(BoundedFloatText(value=60000.0, description='survival lifetime', layout=Layout(width='180px'), max=1000000.0, step=0.1), Label(value='min')), layout=Layout(width='270px'))), layout=Layout(border='1px solid black')), VBox(children=(Label(value='Pharmacodynamics:'), Dropdown(disabled=True, layout=Layout(width='180px'), options={'Simple (conc)': 0, 'Intermed (AUC)': 1, 'Details (act/deact)': 2}, value=0), HBox(children=(BoundedFloatText(value=0.5, description='EC_50', layout=Layout(width='180px'), step=0.1),), layout=Layout(width='270px')), HBox(children=(BoundedIntText(value=2, description='Hill power', layout=Layout(width='180px'), step=0),), layout=Layout(width='270px')), HBox(children=(BoundedFloatText(value=1.0, description='mech resp rate', layout=Layout(width='180px'), step=0.1), Label(value='1/min')), layout=Layout(width='270px')), HBox(children=(BoundedFloatText(value=0.0, description='mech deact rate', layout=Layout(width='180px'), step=0.1), Label(value='1/min')), layout=Layout(width='270px'))), layout=Layout(border='1px solid black')), VBox(children=(Checkbox(value=True, description='Active Influx', layout=Layout(width='180px')), HBox(children=(BoundedFloatText(value=3.0, description='rel max int conc', layout=Layout(width='180px'), step=0.1),), layout=Layout(width='270px')), HBox(children=(BoundedFloatText(value=0.0058, description='intern rate', layout=Layout(width='180px'), step=0.1), Label(value='1/min')), layout=Layout(width='270px')), HBox(children=(BoundedFloatText(value=1.0, description='ref ext conc', layout=Layout(width='180px'), step=0.1),), layout=Layout(width='270px'))), layout=Layout(border='1px solid black')), VBox(children=(Checkbox(value=True, description='Cycle', layout=Layout(width='180px')), HBox(children=(BoundedFloatText(value=0.00018, description='max birth rate', layout=Layout(width='180px'), step=0.0001, style=DescriptionStyle(description_width='initial')), Label(value='1/min')), layout=Layout(width='270px')), HBox(children=(HBox(children=(BoundedFloatText(value=38.0, description='o2: prolif sat', layout=Layout(width='180px'), step=0.1), Label(value='mmHg')), layout=Layout(width='270px')), HBox(children=(BoundedFloatText(value=5.0, description='prolif thresh', layout=Layout(width='180px'), step=0.1), Label(value='mmHg')), layout=Layout(width='270px')), HBox(children=(BoundedFloatText(value=38.0, description='ref', layout=Layout(width='180px'), step=0.1), Label(value='mmHg')), layout=Layout(width='270px')))), HBox(children=(HBox(children=(BoundedFloatText(value=1.0, description='Glc: prolif ref', layout=Layout(width='180px'), step=0.1),), layout=Layout(width='270px')), HBox(children=(BoundedFloatText(value=1.0, description='prolif sat', layout=Layout(width='180px'), step=0.1),), layout=Layout(width='270px')), HBox(children=(BoundedFloatText(value=0.0, description='prolif thresh', layout=Layout(width='180px'), step=0.1),), layout=Layout(width='270px'))))), layout=Layout(border='1px solid black')), VBox(children=(Label(value='Necrosis:'), HBox(children=(BoundedFloatText(value=0.0027777777777778, description='max rate', layout=Layout(width='180px'), step=0.001), Label(value='1/min')), layout=Layout(width='270px')), HBox(children=(BoundedFloatText(value=5.0, description='o2: thresh', layout=Layout(width='180px'), step=0.1), Label(value='mmHg')), layout=Layout(width='270px')), HBox(children=(BoundedFloatText(value=2.5, description='max', layout=Layout(width='180px'), step=0.1), Label(value='mmHg')), layout=Layout(width='270px'))), layout=Layout(border='1px solid black')), VBox(children=(Checkbox(value=True, description='Apoptosis', layout=Layout(width='180px')), HBox(children=(HBox(children=(BoundedFloatText(value=0.0005, description='rate', layout=Layout(width='180px'), step=0.001), Label(value='1/min')), layout=Layout(width='270px')),))), layout=Layout(border='1px solid black')), VBox(children=(Checkbox(value=False, description='Metabolism', disabled=True, layout=Layout(width='180px')), HBox(children=(HBox(children=(BoundedFloatText(value=0.0, description='Aerobic', disabled=True, layout=Layout(width='180px'), max=1.0, step=0.1),), layout=Layout(width='270px')), HBox(children=(BoundedFloatText(value=0.0, description='Glycolytic', disabled=True, layout=Layout(width='180px'), max=1.0, step=0.1),), layout=Layout(width='270px'))))), layout=Layout(border='1px solid black')), VBox(children=(HBox(children=(Checkbox(value=False, description='Motility', disabled=True, layout=Layout(width='200px')), Checkbox(value=False, description='motile', disabled=True, layout=Layout(width='200px')), BoundedIntText(value=0, description='substrate index', disabled=True, layout=Layout(width='200px'), style=DescriptionStyle(description_width='initial')), RadioButtons(disabled=True, options={'grad': 0, '-grad': 1}, value=0))), HBox(children=(HBox(children=(BoundedFloatText(value=0.25, description='bias', disabled=True, layout=Layout(width='180px'), max=1.0, step=0.01),), layout=Layout(width='270px')), HBox(children=(BoundedFloatText(value=1.1, description='speed', disabled=True, layout=Layout(width='180px'), step=0.1), Label(value='micron/min')), layout=Layout(width='290px')), HBox(children=(BoundedFloatText(value=10.0, description='persistence time', disabled=True, layout=Layout(width='180px'), step=0.1), Label(value='min')), layout=Layout(width='270px'))))), layout=Layout(border='1px solid black')), VBox(children=(Checkbox(value=False, description='Mechanics', layout=Layout(width='180px')), HBox(children=(HBox(children=(BoundedFloatText(value=1.5, description='Max adhesion distance', disabled=True, layout=Layout(width='180px'), step=0.1),), layout=Layout(width='270px')), HBox(children=(BoundedFloatText(value=0.4, description='Adhesion strength', layout=Layout(width='180px'), step=0.1),), layout=Layout(width='270px')), HBox(children=(BoundedFloatText(value=10.0, description='Repulsion strength', layout=Layout(width='180px'), step=0.1),), layout=Layout(width='270px'))))), layout=Layout(border='1px solid black')), VBox(children=(Label(value='Hypoxia:'), HBox(children=(HBox(children=(BoundedFloatText(value=15.0, description='o2: threshold', layout=Layout(width='180px'), step=0.1), Label(value='mmHg')), layout=Layout(width='270px')), HBox(children=(BoundedFloatText(value=8.0, description='response', layout=Layout(width='180px'), step=0.1), Label(value='mmHg')), layout=Layout(width='270px')), HBox(children=(BoundedFloatText(value=4.0, description='saturation', layout=Layout(width='180px'), step=0.1), Label(value='mmHg')), layout=Layout(width='270px'))))), layout=Layout(border='1px solid black')), VBox(children=(Checkbox(value=False, description='Secretion', layout=Layout(width='180px')), HBox(children=(HBox(children=(BoundedFloatText(value=10.0, description='o2: uptake rate', disabled=True, layout=Layout(width='180px'), step=0.1), Label(value='1/min')), layout=Layout(width='270px')), HBox(children=(BoundedFloatText(value=0.0, description='secretion rate', disabled=True, layout=Layout(width='180px'), step=0.1), Label(value='1/min')), layout=Layout(width='270px')), HBox(children=(BoundedFloatText(value=0.0, description='saturation', disabled=True, layout=Layout(width='180px'), step=0.1),), layout=Layout(width='270px')))), HBox(children=(HBox(children=(BoundedFloatText(value=0.003, description='Glc: uptake rate', disabled=True, layout=Layout(width='180px'), step=0.001), Label(value='1/min')), layout=Layout(width='270px')), HBox(children=(BoundedFloatText(value=0.0, description='secretion rate', disabled=True, layout=Layout(width='180px'), step=0.1), Label(value='1/min')), layout=Layout(width='270px')), HBox(children=(BoundedFloatText(value=0.0, description='saturation', disabled=True, layout=Layout(width='180px'), step=0.1),), layout=Layout(width='270px')))), HBox(children=(HBox(children=(BoundedFloatText(value=0.0, description='H+: uptake rate', disabled=True, layout=Layout(width='180px'), step=0.1), Label(value='1/min')), layout=Layout(width='270px')), HBox(children=(BoundedFloatText(value=0.0, description='secretion rate', disabled=True, layout=Layout(width='180px'), step=0.1), Label(value='1/min')), layout=Layout(width='270px')), HBox(children=(BoundedFloatText(value=1.0, description='saturation', disabled=True, layout=Layout(width='180px'), step=0.1),), layout=Layout(width='270px')))), HBox(children=(HBox(children=(BoundedFloatText(value=0.0, description='ECM: uptake rate', disabled=True, layout=Layout(width='180px'), step=0.1), Label(value='1/min')), layout=Layout(width='270px')), HBox(children=(BoundedFloatText(value=0.0, description='secretion rate', disabled=True, layout=Layout(width='180px'), step=0.1), Label(value='1/min')), layout=Layout(width='270px')), HBox(children=(BoundedFloatText(value=0.0, description='saturation', disabled=True, layout=Layout(width='180px'), step=0.1),), layout=Layout(width='270px')))), HBox(children=(HBox(children=(BoundedFloatText(value=0.0, description='NP1: uptake rate', disabled=True, layout=Layout(width='180px'), step=0.1), Label(value='1/min')), layout=Layout(width='270px')), HBox(children=(BoundedFloatText(value=0.0, description='secretion rate', disabled=True, layout=Layout(width='180px'), step=0.1), Label(value='1/min')), layout=Layout(width='270px')), HBox(children=(BoundedFloatText(value=0.0, description='saturation', disabled=True, layout=Layout(width='180px'), step=0.1),), layout=Layout(width='270px')))), HBox(children=(HBox(children=(BoundedFloatText(value=0.0, description='NP2: uptake rate', disabled=True, layout=Layout(width='180px'), step=0.1), Label(value='1/min')), layout=Layout(width='270px')), HBox(children=(BoundedFloatText(value=0.0, description='secretion rate', disabled=True, layout=Layout(width='180px'), step=0.1), Label(value='1/min')), layout=Layout(width='270px')), HBox(children=(BoundedFloatText(value=0.0, description='saturation', disabled=True, layout=Layout(width='180px'), step=0.1),), layout=Layout(width='270px'))))), layout=Layout(border='1px solid black')))), VBox(children=(Label(value='Transform #1:'), HBox(children=(BoundedIntText(value=0, description='NP ID', disabled=True, layout=Layout(width='180px')), Label(value='-->'), BoundedIntText(value=1, disabled=True, layout=Layout(width='90px')))), HBox(children=(BoundedIntText(value=4, description='substrate ID', disabled=True, layout=Layout(width='180px')), Label(value='-->'), BoundedIntText(value=5, disabled=True, layout=Layout(width='90px')))), BoundedIntText(value=0, description='cond substrate ID', disabled=True, layout=Layout(width='180px')), BoundedFloatText(value=10.0, description='condition1', disabled=True, layout=Layout(width='180px')), HBox(children=(BoundedFloatText(value=1.0, description='rate1', disabled=True, layout=Layout(width='180px'), step=0.1), Label(value='1/min')), layout=Layout(width='250px')), BoundedFloatText(value=15.0, description='condition2', disabled=True, layout=Layout(width='180px')), HBox(children=(BoundedFloatText(value=0.0, description='rate2', disabled=True, layout=Layout(width='180px'), step=0.1), Label(value='1/min')), layout=Layout(width='250px')), Label(value='Transform #2:'), HBox(children=(BoundedIntText(value=1, description='NP ID', disabled=True, layout=Layout(width='180px')), Label(value='-->'), BoundedIntText(value=0, disabled=True, layout=Layout(width='90px')))), HBox(children=(BoundedIntText(value=5, description='substrate ID', disabled=True, layout=Layout(width='180px')), Label(value='-->'), BoundedIntText(value=4, disabled=True, layout=Layout(width='90px')))), BoundedIntText(value=0, description='cond substrate ID', disabled=True, layout=Layout(width='180px')), BoundedFloatText(value=20.0, description='condition1', disabled=True, layout=Layout(width='180px')), HBox(children=(BoundedFloatText(value=0.0, description='rate1', disabled=True, layout=Layout(width='180px'), step=0.1), Label(value='1/min')), layout=Layout(width='250px')), BoundedFloatText(value=25.0, description='condition2', disabled=True, layout=Layout(width='180px')), HBox(children=(BoundedFloatText(value=0.0, description='rate2', disabled=True, layout=Layout(width='180px'), step=0.1), Label(value='1/min')), layout=Layout(width='250px'))))), _titles={'0': 'Preform (spherical)', '1': 'Reconfig (rod)', '2': 'Transformations'}), VBox(children=(Box(children=(Label(value='(select slider: drag or left/right arrows)'), BoundedIntText(value=505, description='Max', layout=Layout(flex='1 1 auto', width='auto'), max=99999), Checkbox(value=False, description='nucleus', layout=Layout(flex='1 1 auto', width='auto')), Checkbox(value=True, description='edge', layout=Layout(flex='1 1 auto', width='auto'))), layout=Layout(align_items='stretch', display='flex', flex_flow='row', width='90%')), interactive(children=(IntSlider(value=252, description='frame', max=505), Output()), layout=Layout(height='500px', width='500px'), _dom_classes=('widget-interact',)), Button(button_style='warning', description='svg.zip', icon='cloud-download', style=ButtonStyle(), tooltip='Download results')), layout=Layout(height='520px', overflow_y='scroll', width='800px')), HBox(children=(VBox(children=(Dropdown(layout=Layout(width='180px'), options={'oxygen': 0, 'glucose': 1, 'H+ ions': 2, 'ECM': 3, 'NP1': 4, 'NP2': 5}, value=0), HBox(children=(Dropdown(layout=Layout(width='180px'), options=('viridis', 'jet', 'YlOrRd'), value='viridis'), Checkbox(value=False, description='Fix', layout=Layout(width='150px')))), Box(children=(Button(button_style='success', description='Save', disabled=True, layout=Layout(width='90px'), style=ButtonStyle(), tooltip='Save min/max for this substrate'), FloatText(value=0.0, description='Min', disabled=True, step=0.1), FloatText(value=38.0, description='Max', disabled=True, step=0.1)), layout=Layout(align_items='stretch', display='flex', flex_flow='row', width='80%')), BoundedIntText(value=253, description='Max frames', layout=Layout(width='160px'), max=99999))), interactive(children=(IntSlider(value=126, description='frame', max=253), Output()), layout=Layout(height='700px', width='700px'), _dom_classes=('widget-interact',))), layout=Layout(height='500px', width='900px'))), layout=Layout(height='500px', overflow_y='scroll', width='950px'), _titles={'0': 'Config Basics', '1': 'Cell Properties', '2': 'Nanoparticles', '3': 'Cell Plots', '4': 'Substrate Plots'}), HBox(children=(Button(button_style='success', description='Write config file', style=ButtonStyle(), tooltip='Generate XML'), Text(value='my_nanobio_settings.xml'), Dropdown(disabled=True, options=('1234567', '2234567', 'Martin', 'bin', 'data', 'output'), value='1234567'))), VBox(children=(Button(button_style='success', description='Run', style=ButtonStyle(), tooltip='Run Simulation'),)), VBox(children=(Button(button_style='success', description='Submit', style=ButtonStyle(), tooltip='Submit batch run'),))))"
      ]
     },
     "metadata": {},
     "output_type": "display_data"
    },
    {
     "data": {
      "application/javascript": [
       "window.open('svg.zip')"
      ],
      "text/plain": [
       "<IPython.core.display.Javascript object>"
      ]
     },
     "metadata": {},
     "output_type": "display_data"
    }
   ],
   "source": [
    "display(gui)"
   ]
  },
  {
   "cell_type": "code",
   "execution_count": null,
   "metadata": {},
   "outputs": [],
   "source": []
  }
 ],
 "metadata": {
  "extensions": {
   "jupyter_dashboards": {
    "activeView": "grid_default",
    "version": 1,
    "views": {
     "grid_default": {
      "cellMargin": 10,
      "defaultCellHeight": 20,
      "maxColumns": 12,
      "name": "grid",
      "type": "grid"
     },
     "report_default": {
      "name": "report",
      "type": "report"
     }
    }
   }
  },
  "kernelspec": {
   "display_name": "Python 3",
   "language": "python",
   "name": "python3"
  },
  "language_info": {
   "codemirror_mode": {
    "name": "ipython",
    "version": 3
   },
   "file_extension": ".py",
   "mimetype": "text/x-python",
   "name": "python",
   "nbconvert_exporter": "python",
   "pygments_lexer": "ipython3",
   "version": "3.6.4"
  },
  "tool": false
 },
 "nbformat": 4,
 "nbformat_minor": 2
}
