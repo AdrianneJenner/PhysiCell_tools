{
 "cells": [
  {
   "cell_type": "code",
   "execution_count": 26,
   "metadata": {},
   "outputs": [],
   "source": [
    "%matplotlib inline\n",
    "import os, math\n",
    "from collections import deque\n",
    "import matplotlib.pyplot as plt\n",
    "import matplotlib.colors as mplc\n",
    "import numpy as np\n",
    "import xml.etree.ElementTree as ET\n",
    "from ipywidgets import interact, interactive"
   ]
  },
  {
   "cell_type": "code",
   "execution_count": 27,
   "metadata": {},
   "outputs": [],
   "source": [
    "def f(p):\n",
    "    show_nucleus = 0\n",
    "    use_defaults = True\n",
    "    scale_radius = 1.0\n",
    "    axes_min = 0\n",
    "    axes_max = 2000\n",
    "    \n",
    "    fname = \"snapshot%08d.svg\" % p\n",
    "    if (os.path.isfile(fname) == False):\n",
    "        print(\"File does not exist: \",fname)\n",
    "        return\n",
    "\n",
    "    xlist = deque()\n",
    "    ylist = deque()\n",
    "    rlist = deque()\n",
    "    rgb_list = deque()\n",
    "    tree = ET.parse(fname)\n",
    "    root = tree.getroot()\n",
    "    numChildren = 0\n",
    "    for child in root:\n",
    "        if use_defaults and ('width' in child.attrib.keys()):\n",
    "          axes_max = float(child.attrib['width'])\n",
    "        if child.text and \"Current time\" in child.text:\n",
    "          svals = child.text.split()\n",
    "          #title_str = \"(\" + str(current_idx) + \") Current time: \" + svals[2] + \"d, \" + svals[4] + \"h, \" + svals[7] + \"m\"\n",
    "        if ('id' in child.attrib.keys()):\n",
    "#          print('-------- found tissue!!')\n",
    "          tissue_parent = child\n",
    "          break\n",
    "    cells_parent = None\n",
    "\n",
    "    for child in tissue_parent:\n",
    "        if (child.attrib['id'] == 'cells'):\n",
    "#      print('-------- found cells, setting cells_parent')\n",
    "          cells_parent = child\n",
    "          break\n",
    "        \n",
    "        numChildren += 1\n",
    "        \n",
    "    num_cells = 0\n",
    "#  print('------ search cells')\n",
    "    for child in cells_parent:\n",
    "        for circle in child:  # two circles in each child: outer + nucleus\n",
    "    #  circle.attrib={'cx': '1085.59','cy': '1225.24','fill': 'rgb(159,159,96)','r': '6.67717','stroke': 'rgb(159,159,96)','stroke-width': '0.5'}\n",
    "#      print('  --- cx,cy=',circle.attrib['cx'],circle.attrib['cy'])\n",
    "            xval = float(circle.attrib['cx'])\n",
    "            s = circle.attrib['fill']\n",
    "        \n",
    "            if (s[0:3] == \"rgb\"):  # if an rgb string, e.g. \"rgb(175,175,80)\"\n",
    "                rgb = list(map(int, s[4:-1].split(\",\")))\n",
    "                rgb[:]=[x/255. for x in rgb]\n",
    "            else:     # otherwise, must be a color name\n",
    "                rgb_tuple = mplc.to_rgb(mplc.cnames[s])  # a tuple\n",
    "                rgb = [x for x in rgb_tuple]\n",
    "                \n",
    "            too_large_val = 10000.\n",
    "            if (math.fabs(xval) > too_large_val):\n",
    "                print(\"bogus xval=\",xval)\n",
    "                break\n",
    "            yval = float(circle.attrib['cy'])\n",
    "            if (math.fabs(yval) > too_large_val):\n",
    "                print(\"bogus xval=\",xval)\n",
    "                break\n",
    "\n",
    "            rval = float(circle.attrib['r'])\n",
    "            xlist.append(xval)\n",
    "            ylist.append(yval)\n",
    "            rlist.append(rval)\n",
    "            rgb_list.append(rgb)\n",
    "            if (show_nucleus == 0):\n",
    "                break\n",
    "        num_cells += 1\n",
    "    print(fname,':  num_cells= ',num_cells)\n",
    "\n",
    "    xvals = np.array(xlist)\n",
    "    yvals = np.array(ylist)\n",
    "    rvals = np.array(rlist)\n",
    "    rgbs =  np.array(rgb_list)\n",
    "    plt.xlim(axes_min,axes_max)\n",
    "    plt.ylim(axes_min,axes_max)\n",
    "    plt.axis('equal')   # square aspect ratio\n",
    "\n",
    "    plt.scatter(xvals,yvals, s=rvals*scale_radius, c=rgbs)\n",
    "    plt.show()\n",
    "    "
   ]
  },
  {
   "cell_type": "code",
   "execution_count": 29,
   "metadata": {},
   "outputs": [
    {
     "data": {
      "application/vnd.jupyter.widget-view+json": {
       "model_id": "802709613e5742568560af095135de12",
       "version_major": 2,
       "version_minor": 0
      },
      "text/html": [
       "<p>Failed to display Jupyter Widget of type <code>interactive</code>.</p>\n",
       "<p>\n",
       "  If you're reading this message in the Jupyter Notebook or JupyterLab Notebook, it may mean\n",
       "  that the widgets JavaScript is still loading. If this message persists, it\n",
       "  likely means that the widgets JavaScript library is either not installed or\n",
       "  not enabled. See the <a href=\"https://ipywidgets.readthedocs.io/en/stable/user_install.html\">Jupyter\n",
       "  Widgets Documentation</a> for setup instructions.\n",
       "</p>\n",
       "<p>\n",
       "  If you're reading this message in another frontend (for example, a static\n",
       "  rendering on GitHub or <a href=\"https://nbviewer.jupyter.org/\">NBViewer</a>),\n",
       "  it may mean that your frontend doesn't currently support widgets.\n",
       "</p>\n"
      ],
      "text/plain": [
       "interactive(children=(IntSlider(value=50, description='p'), Output(layout=Layout(height='300px'))), _dom_classes=('widget-interact',))"
      ]
     },
     "metadata": {},
     "output_type": "display_data"
    }
   ],
   "source": [
    "interactive_plot = interactive(f, p=(0, 100), continuous_update=False)\n",
    "output = interactive_plot.children[-1]\n",
    "output.layout.height = '300px'\n",
    "interactive_plot"
   ]
  },
  {
   "cell_type": "code",
   "execution_count": null,
   "metadata": {},
   "outputs": [],
   "source": []
  }
 ],
 "metadata": {
  "kernelspec": {
   "display_name": "Python 3",
   "language": "python",
   "name": "python3"
  },
  "language_info": {
   "codemirror_mode": {
    "name": "ipython",
    "version": 3
   },
   "file_extension": ".py",
   "mimetype": "text/x-python",
   "name": "python",
   "nbconvert_exporter": "python",
   "pygments_lexer": "ipython3",
   "version": "3.6.4"
  }
 },
 "nbformat": 4,
 "nbformat_minor": 2
}
